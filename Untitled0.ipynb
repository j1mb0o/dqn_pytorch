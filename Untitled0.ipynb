{
  "cells": [
    {
      "cell_type": "code",
      "execution_count": 1,
      "metadata": {},
      "outputs": [
        {
          "name": "stdout",
          "output_type": "stream",
          "text": [
            "usage: dqn.py [-h] [--learning-rate LEARNING_RATE] [--batch-size BATCH_SIZE]\n",
            "              [--number-of-layers NUMBER_OF_LAYERS]\n",
            "              [--num-of-neurons NUM_OF_NEURONS] [--optimizer OPTIMIZER]\n",
            "              [--exploration_p EXPLORATION_P] [--epsilon EPSILON]\n",
            "              [--temperature TEMPERATURE] [--no-replay-buffer]\n",
            "              [--no-target-network] [--gamma GAMMA]\n",
            "              [--memory-size MEMORY_SIZE] --numpy-filename NUMPY_FILENAME\n",
            "\n",
            "options:\n",
            "  -h, --help            show this help message and exit\n",
            "  --learning-rate LEARNING_RATE\n",
            "  --batch-size BATCH_SIZE\n",
            "  --number-of-layers NUMBER_OF_LAYERS\n",
            "  --num-of-neurons NUM_OF_NEURONS\n",
            "  --optimizer OPTIMIZER\n",
            "  --exploration_p EXPLORATION_P\n",
            "  --epsilon EPSILON\n",
            "  --temperature TEMPERATURE\n",
            "  --no-replay-buffer\n",
            "  --no-target-network\n",
            "  --gamma GAMMA\n",
            "  --memory-size MEMORY_SIZE\n",
            "  --numpy-filename NUMPY_FILENAME\n"
          ]
        }
      ],
      "source": [
        "!python3 dqn.py -h"
      ]
    },
    {
      "attachments": {},
      "cell_type": "markdown",
      "metadata": {},
      "source": [
        "# Normal"
      ]
    },
    {
      "cell_type": "code",
      "execution_count": null,
      "metadata": {},
      "outputs": [],
      "source": [
        "!python3 dqn.py --number-of-layers 3 --num-of-neurons 64 --optimizer adam \\\n",
        "    --learning-rate 0.0001 --batch-size 64 --exploration_p softmax\\\n",
        "    --temperature 0.01 --numpy-filename dqn_normal\n"
      ]
    },
    {
      "attachments": {},
      "cell_type": "markdown",
      "metadata": {},
      "source": [
        "# No buffer"
      ]
    },
    {
      "cell_type": "code",
      "execution_count": null,
      "metadata": {},
      "outputs": [],
      "source": [
        "!python3 dqn.py --number-of-layers 3 --num-of-neurons 64 --optimizer adam \\\n",
        "    --learning-rate 0.0001 --batch-size 64 --exploration_p softmax\\\n",
        "    --temperature 0.01 --numpy-filename dqn_no_buffer --no-replay-buffer\n"
      ]
    },
    {
      "attachments": {},
      "cell_type": "markdown",
      "metadata": {},
      "source": [
        "# No target network"
      ]
    },
    {
      "cell_type": "code",
      "execution_count": null,
      "metadata": {},
      "outputs": [],
      "source": [
        "!python3 dqn.py --number-of-layers 3 --num-of-neurons 64 --optimizer adam \\\n",
        "    --learning-rate 0.0001 --batch-size 64 --exploration_p softmax\\\n",
        "    --temperature 0.01 --numpy-filename dqn_no_target_network   --no-target-network\n",
        "\n"
      ]
    },
    {
      "attachments": {},
      "cell_type": "markdown",
      "metadata": {},
      "source": [
        "# No buffer no target network"
      ]
    },
    {
      "cell_type": "code",
      "execution_count": null,
      "metadata": {},
      "outputs": [],
      "source": [
        "!python3 dqn.py --number-of-layers 3 --num-of-neurons 64 --optimizer adam \\\n",
        "    --learning-rate 0.0001 --batch-size 64 --exploration_p softmax\\\n",
        "    --temperature 0.01 --numpy-filename dqn_no_buffer_no_target_network --no-replay-buffer --no-target-network\n"
      ]
    }
  ],
  "metadata": {
    "accelerator": "GPU",
    "colab": {
      "provenance": []
    },
    "gpuClass": "standard",
    "kernelspec": {
      "display_name": "Python 3",
      "name": "python3"
    },
    "language_info": {
      "codemirror_mode": {
        "name": "ipython",
        "version": 3
      },
      "file_extension": ".py",
      "mimetype": "text/x-python",
      "name": "python",
      "nbconvert_exporter": "python",
      "pygments_lexer": "ipython3",
      "version": "3.10.6"
    }
  },
  "nbformat": 4,
  "nbformat_minor": 0
}
